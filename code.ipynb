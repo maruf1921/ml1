{
 "cells": [
  {
   "cell_type": "code",
   "execution_count": 1,
   "id": "a5cdc159",
   "metadata": {},
   "outputs": [
    {
     "name": "stdout",
     "output_type": "stream",
     "text": [
      "Enter the salary: 8\n",
      "Enter the number of family members: 3\n",
      "The predicted zone for the given input is: 2\n",
      "The 3 nearest neighbors and their distances are:\n",
      "Neighbor 1: Zone 2, Distance: 0.00\n",
      "Neighbor 2: Zone 3, Distance: 0.51\n",
      "Neighbor 3: Zone 2, Distance: 0.71\n"
     ]
    }
   ],
   "source": [
    "import pandas as pd\n",
    "from sklearn.preprocessing import StandardScaler\n",
    "from sklearn.neighbors import KNeighborsClassifier\n",
    "\n",
    "# Load the dataset\n",
    "df = pd.read_csv('dataset.csv')\n",
    "\n",
    "# Separate features (salary and family member) and target (zone)\n",
    "X = df[['Salary', 'Member']]  # Use 'Member' here\n",
    "y = df['Zone']\n",
    "\n",
    "# Standardize features (scaling)\n",
    "scaler = StandardScaler()\n",
    "X_scaled = scaler.fit_transform(X)\n",
    "\n",
    "from sklearn.neighbors import KNeighborsClassifier\n",
    "\n",
    "# Create the K-NN classifier with a chosen value of k (e.g., k=3)\n",
    "k = 3\n",
    "knn_classifier = KNeighborsClassifier(n_neighbors=k)\n",
    "\n",
    "# Train the model on the entire dataset\n",
    "knn_classifier.fit(X_scaled, y)\n",
    "\n",
    "# Input user data\n",
    "salary = float(input(\"Enter the salary: \"))\n",
    "family_member = int(input(\"Enter the number of family members: \"))\n",
    "\n",
    "# Create a DataFrame with the user input\n",
    "user_data = pd.DataFrame({'Salary': [salary], 'Member': [family_member]})  # Use 'Member' here\n",
    "\n",
    "# Scale the user input data using the same scaler\n",
    "user_data_scaled = scaler.transform(user_data)\n",
    "\n",
    "# Find the k-nearest neighbors for the user input\n",
    "distances, indices = knn_classifier.kneighbors(user_data_scaled, n_neighbors=k)\n",
    "\n",
    "# Get the predicted zone for the user input\n",
    "predicted_zone = knn_classifier.predict(user_data_scaled)[0]\n",
    "\n",
    "print(f\"The predicted zone for the given input is: {predicted_zone}\")\n",
    "\n",
    "# Show the first k nearest neighbors and their distances\n",
    "print(f\"The {k} nearest neighbors and their distances are:\")\n",
    "for i in range(k):\n",
    "    neighbor_index = indices[0][i]\n",
    "    neighbor_distance = distances[0][i]\n",
    "    neighbor_zone = y.iloc[neighbor_index]  # Use y here to get the zone label\n",
    "    print(f\"Neighbor {i+1}: Zone {neighbor_zone}, Distance: {neighbor_distance:.2f}\")"
   ]
  },
  {
   "cell_type": "code",
   "execution_count": null,
   "id": "243946d7",
   "metadata": {},
   "outputs": [],
   "source": [
    "\n"
   ]
  }
 ],
 "metadata": {
  "kernelspec": {
   "display_name": "Python 3 (ipykernel)",
   "language": "python",
   "name": "python3"
  },
  "language_info": {
   "codemirror_mode": {
    "name": "ipython",
    "version": 3
   },
   "file_extension": ".py",
   "mimetype": "text/x-python",
   "name": "python",
   "nbconvert_exporter": "python",
   "pygments_lexer": "ipython3",
   "version": "3.11.4"
  }
 },
 "nbformat": 4,
 "nbformat_minor": 5
}
